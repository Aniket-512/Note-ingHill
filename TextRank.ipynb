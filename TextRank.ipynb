{
 "cells": [
  {
   "cell_type": "code",
   "execution_count": 1,
   "metadata": {},
   "outputs": [],
   "source": [
    "# Importing the libraries\n",
    "\n",
    "import numpy as np\n",
    "import pandas as pd\n",
    "import nltk\n",
    "import re\n",
    "from sklearn.metrics.pairwise import cosine_similarity\n",
    "import networkx as nx\n",
    "from nltk.corpus import stopwords\n",
    "from nltk.tokenize import sent_tokenize"
   ]
  },
  {
   "cell_type": "code",
   "execution_count": 2,
   "metadata": {},
   "outputs": [],
   "source": [
    "# Reading the text from a text file\n",
    "\n",
    "file = open(\"TextOutput.txt\", encoding=\"utf8\")\n",
    "text = file.read()"
   ]
  },
  {
   "cell_type": "code",
   "execution_count": 3,
   "metadata": {},
   "outputs": [],
   "source": [
    "# Getting the sentences\n",
    "\n",
    "sentences = sent_tokenize(text)"
   ]
  },
  {
   "cell_type": "code",
   "execution_count": 4,
   "metadata": {},
   "outputs": [],
   "source": [
    "# Remove punctuations, numbers and special characters\n",
    "\n",
    "clean_sentences = pd.Series(sentences).str.replace(\"[^a-zA-Z]\", \" \")"
   ]
  },
  {
   "cell_type": "code",
   "execution_count": 5,
   "metadata": {},
   "outputs": [],
   "source": [
    "# Make alphabets lowercase\n",
    "\n",
    "clean_sentences = [s.lower() for s in clean_sentences]"
   ]
  },
  {
   "cell_type": "code",
   "execution_count": 6,
   "metadata": {},
   "outputs": [],
   "source": [
    "# Getting the stopwords (and, to etc.) so that it can be removed\n",
    "# Stopwords are removed so that more important parts of the sentence can be focussed on\n",
    "\n",
    "stop_words = stopwords.words('english')"
   ]
  },
  {
   "cell_type": "code",
   "execution_count": 7,
   "metadata": {},
   "outputs": [],
   "source": [
    "# Function to remove stopwords\n",
    "\n",
    "def remove_stopwords(sen):\n",
    "    sen_new = \" \".join([i for i in sen if i not in stop_words])\n",
    "    return sen_new"
   ]
  },
  {
   "cell_type": "code",
   "execution_count": 8,
   "metadata": {},
   "outputs": [],
   "source": [
    "# Remove stopwords from the sentences\n",
    "\n",
    "clean_sentences = [remove_stopwords(r.split()) for r in clean_sentences]"
   ]
  },
  {
   "cell_type": "code",
   "execution_count": 9,
   "metadata": {},
   "outputs": [],
   "source": [
    "# Extract word vectors using glove\n",
    "\n",
    "word_embeddings = {}\n",
    "f = open('glove.6B.100d.txt', encoding='utf-8')\n",
    "for line in f:\n",
    "    values = line.split()\n",
    "    word = values[0]\n",
    "    coefs = np.asarray(values[1:], dtype='float32')\n",
    "    word_embeddings[word] = coefs\n",
    "f.close()"
   ]
  },
  {
   "cell_type": "code",
   "execution_count": 10,
   "metadata": {},
   "outputs": [],
   "source": [
    "# Extract sentence vectors\n",
    "\n",
    "sentence_vectors = []\n",
    "for i in clean_sentences:\n",
    "    if len(i) != 0:\n",
    "        v = sum([word_embeddings.get(w, np.zeros((100,))) for w in i.split()])/(len(i.split())+0.001)\n",
    "    else:\n",
    "        v = np.zeros((100,))\n",
    "    sentence_vectors.append(v)"
   ]
  },
  {
   "cell_type": "code",
   "execution_count": 11,
   "metadata": {},
   "outputs": [],
   "source": [
    "# Similarity matrix (intialised as a square matrix of 0s)\n",
    "# The size of this matrix will be n x n, where n is the number of sentences\n",
    "\n",
    "sim_mat = np.zeros([len(sentences), len(sentences)])"
   ]
  },
  {
   "cell_type": "code",
   "execution_count": 12,
   "metadata": {},
   "outputs": [],
   "source": [
    "# Cosine similarity of a sentence is calculated with every other sentence and stored in the sim_mat matrix\n",
    "# Cosine similarity is the dot product of the vector values of the sentences\n",
    "# Higher this value, stronger is the relationship between the 2 sentences (Smaller theta value)\n",
    "# This is not done for the same sentence as we aren't interested in the relationship of a sentence with itself \n",
    "# Hence, it is kept as 0\n",
    "\n",
    "for i in range(len(sentences)):\n",
    "      for j in range(len(sentences)):\n",
    "        if i != j:\n",
    "              sim_mat[i][j] = cosine_similarity(sentence_vectors[i].reshape(1,100), sentence_vectors[j].reshape(1,100))[0,0]"
   ]
  },
  {
   "cell_type": "code",
   "execution_count": 13,
   "metadata": {},
   "outputs": [],
   "source": [
    "# Converting the matrix into a graph\n",
    "# Scores is a dictionary, which contains the rank of each sentence\n",
    "# Higher score(rank) means the sentence is more important\n",
    "\n",
    "nx_graph = nx.from_numpy_array(sim_mat)\n",
    "scores = nx.pagerank(nx_graph)"
   ]
  },
  {
   "cell_type": "code",
   "execution_count": 14,
   "metadata": {},
   "outputs": [],
   "source": [
    "# Ranking the sentences in DESCENDING order\n",
    "# This will keep only the most important sentences\n",
    "# Keys and values are used to order the sentences later\n",
    "\n",
    "ranked_sentences = sorted(([scores[i],s] for i,s in enumerate(sentences)), reverse=True)\n",
    "keys = list(scores.keys())\n",
    "values = list(scores.values())"
   ]
  },
  {
   "cell_type": "code",
   "execution_count": 15,
   "metadata": {},
   "outputs": [],
   "source": [
    "# Short summary (1/4th the size of the original text)\n",
    "# Ordered sentences contain the most important sentences in the order at which it was obtained\n",
    "\n",
    "s_n = int((1/4) * len(ranked_sentences))\n",
    "short_ranked_sentences = ranked_sentences[: s_n + 1]\n",
    "short_ordered_sentences = []\n",
    "for i, j in short_ranked_sentences:\n",
    "    ind = values.index(i)\n",
    "    short_ordered_sentences.append([ind, j])\n",
    "short_ordered_sentences = sorted(short_ordered_sentences, key=lambda x: x[0])\n",
    "f = open(\"TextSumShort.txt\", 'w')\n",
    "for i in range(len(short_ordered_sentences)):\n",
    "    f.write(short_ordered_sentences[i][1])\n",
    "    f.write(\"\\n\")\n",
    "f.close()"
   ]
  },
  {
   "cell_type": "code",
   "execution_count": 16,
   "metadata": {},
   "outputs": [],
   "source": [
    "# Long summary (3/4th the size of the original text))\n",
    "\n",
    "l_n = int((3/4) * len(ranked_sentences))\n",
    "long_ranked_sentences = ranked_sentences[: l_n + 1]\n",
    "long_ordered_sentences = []\n",
    "for i, j in long_ranked_sentences:\n",
    "    ind = values.index(i)\n",
    "    long_ordered_sentences.append([ind, j])\n",
    "long_ordered_sentences = sorted(long_ordered_sentences, key=lambda x: x[0])\n",
    "f = open(\"TextSumLong.txt\", 'w')\n",
    "for i in range(len(long_ordered_sentences)):\n",
    "    f.write(long_ordered_sentences[i][1])\n",
    "    f.write(\"\\n\")\n",
    "f.close()"
   ]
  },
  {
   "cell_type": "code",
   "execution_count": 17,
   "metadata": {},
   "outputs": [],
   "source": [
    "# Medium summary (1/2 the size of the original text)\n",
    "\n",
    "m_n = int((1/2) * len(ranked_sentences))\n",
    "medium_ranked_sentences = ranked_sentences[: m_n + 1]\n",
    "medium_ordered_sentences = []\n",
    "for i, j in medium_ranked_sentences:\n",
    "    ind = values.index(i)\n",
    "    medium_ordered_sentences.append([ind, j])\n",
    "medium_ordered_sentences = sorted(medium_ordered_sentences, key=lambda x: x[0])\n",
    "f = open(\"TextSumMed.txt\", 'w')\n",
    "for i in range(len(medium_ordered_sentences)):\n",
    "    f.write(medium_ordered_sentences[i][1])\n",
    "    f.write(\"\\n\")\n",
    "f.close()"
   ]
  },
  {
   "cell_type": "code",
   "execution_count": null,
   "metadata": {},
   "outputs": [],
   "source": []
  }
 ],
 "metadata": {
  "kernelspec": {
   "display_name": "Python 3",
   "language": "python",
   "name": "python3"
  },
  "language_info": {
   "codemirror_mode": {
    "name": "ipython",
    "version": 3
   },
   "file_extension": ".py",
   "mimetype": "text/x-python",
   "name": "python",
   "nbconvert_exporter": "python",
   "pygments_lexer": "ipython3",
   "version": "3.7.9"
  }
 },
 "nbformat": 4,
 "nbformat_minor": 4
}
